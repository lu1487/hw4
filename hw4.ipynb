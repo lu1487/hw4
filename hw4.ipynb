{
 "cells": [
  {
   "cell_type": "code",
   "execution_count": 7,
   "metadata": {},
   "outputs": [
    {
     "name": "stdout",
     "output_type": "stream",
     "text": [
      "轉換中\n",
      "轉換完成\n"
     ]
    }
   ],
   "source": [
    "from opencc import OpenCC\n",
    "import json\n",
    "import re\n",
    "def change():\n",
    "    a = ['AA','AB','AC','AD','AE','AF','AG','AH','AI','AJ','AK','AL']\n",
    "    text = []\n",
    "    data_change = OpenCC('s2twp')\n",
    "    print(\"轉換中\")\n",
    "    for fi in a:\n",
    "        for i in range(0, 100):\n",
    "            with open('./wiki_zh/{}/wiki_{}'.format(fi,str(i).zfill(2)),'r', encoding = 'utf-8') as file_open:\n",
    "                data = []\n",
    "                for line in file_open:\n",
    "                    data = json.loads(line)\n",
    "                    x = re.sub('\\s+','',data_change.convert(data['text']))\n",
    "                    text.append(re.sub('[^\\u4e00-\\u9fa5]+',' ', x) + '\\n')\n",
    "    for j in range(0,74):\n",
    "        with open('./wiki_zh/AM/wiki_{}'.format(str(j).zfill(2)),'r', encoding = 'utf-8') as file_open:\n",
    "            data = []\n",
    "            for line in file_open:\n",
    "                data = json.loads(line)\n",
    "                x = re.sub('\\s+','',cc.convert(data['text']))\n",
    "                text.append(re.sub('[^\\u4e00-\\u9fa5]+',' ', x) + '\\n')\n",
    "    print(\"轉換完成\")\n",
    "    with open('change_result.txt', 'w+',encoding=\"utf-8\") as f:\n",
    "        for i in text:\n",
    "            f.write(i)\n",
    "change()"
   ]
  },
  {
   "cell_type": "code",
   "execution_count": 10,
   "metadata": {},
   "outputs": [],
   "source": [
    "import jieba\n",
    "with open('wiki_text_seg.txt', 'w', encoding='utf-8') as new_f:\n",
    "    with open('change_result.txt', 'r', encoding='utf-8') as f:\n",
    "        for times, data in enumerate(f, 1):\n",
    "            #print('data num:', times)\n",
    "            data = cc.convert(data)\n",
    "            data = jieba.cut(data)\n",
    "            data = [word for word in data if word != ' ']\n",
    "            data = ' '.join(data)\n",
    "\n",
    "            new_f.write(data)"
   ]
  },
  {
   "cell_type": "code",
   "execution_count": 13,
   "metadata": {},
   "outputs": [
    {
     "name": "stdout",
     "output_type": "stream",
     "text": [
      "Collecting gensim\n",
      "  Downloading gensim-4.0.1-cp38-cp38-win_amd64.whl (23.9 MB)\n",
      "Collecting smart-open>=1.8.1\n",
      "  Downloading smart_open-5.2.0-py3-none-any.whl (58 kB)\n",
      "Requirement already satisfied: Cython==0.29.21 in c:\\users\\user\\anaconda3\\lib\\site-packages (from gensim) (0.29.21)\n",
      "Requirement already satisfied: numpy>=1.11.3 in c:\\users\\user\\anaconda3\\lib\\site-packages (from gensim) (1.19.2)\n",
      "Requirement already satisfied: scipy>=0.18.1 in c:\\users\\user\\anaconda3\\lib\\site-packages (from gensim) (1.5.2)\n",
      "Installing collected packages: smart-open, gensim\n",
      "Successfully installed gensim-4.0.1 smart-open-5.2.0\n",
      "Note: you may need to restart the kernel to use updated packages.\n"
     ]
    }
   ],
   "source": [
    "pip install gensim"
   ]
  },
  {
   "cell_type": "code",
   "execution_count": 4,
   "metadata": {},
   "outputs": [],
   "source": [
    "from gensim.models import word2vec\n",
    "\n",
    "#seed = 6660\n",
    "sg = 0\n",
    "#window_size = 20\n",
    "vector_size = 300\n",
    "#min_count = 1\n",
    "workers = 10\n",
    "epochs = 10\n",
    "#batch_words = 10000000\n",
    "\n",
    "train_data = word2vec.LineSentence('wiki_text_seg.txt')\n",
    "model = word2vec.Word2Vec(\n",
    "    train_data,\n",
    "    #min_count=min_count,\n",
    "    vector_size=vector_size,\n",
    "    workers=workers,\n",
    "    epochs=epochs,\n",
    "    #window=window_size,\n",
    "    sg=sg,\n",
    "    #seed=seed,\n",
    "    #batch_words=batch_words\n",
    ")\n",
    "\n",
    "model.save('word2vec.model')"
   ]
  },
  {
   "cell_type": "code",
   "execution_count": 8,
   "metadata": {},
   "outputs": [
    {
     "name": "stdout",
     "output_type": "stream",
     "text": [
      "loading...\n",
      "('教師', 0.6957416534423828)\n",
      "('同學', 0.6681947112083435)\n",
      "('學長', 0.6416007280349731)\n",
      "('代課', 0.6232795119285583)\n",
      "('班上', 0.6193006634712219)\n",
      "('學弟', 0.6154689192771912)\n",
      "('班導師', 0.6123510599136353)\n",
      "('老師們', 0.6083723306655884)\n",
      "('女教師', 0.606011688709259)\n",
      "('班主任', 0.6052619218826294)\n",
      "('男同學', 0.5738085508346558)\n",
      "('學生', 0.5651559829711914)\n",
      "('學妹', 0.5638214945793152)\n",
      "('恩師', 0.5579637289047241)\n",
      "('教員', 0.5515491962432861)\n",
      "('導師', 0.5507166385650635)\n",
      "('老師則', 0.5492059588432312)\n",
      "('同學們', 0.5461366176605225)\n",
      "('男學生', 0.5454774498939514)\n",
      "('老師會', 0.544666588306427)\n"
     ]
    }
   ],
   "source": [
    "import numpy as np\n",
    "from gensim.models import word2vec\n",
    "\n",
    "\n",
    "# Load model\n",
    "print(\"loading...\")\n",
    "model = word2vec.Word2Vec.load(\"word2vec.model\")\n",
    "    \n",
    "# Zero padding\n",
    "padding = np.zeros((model.vector_size,), dtype=np.float32)\n",
    "\n",
    "\n",
    "# Error process\n",
    "try:\n",
    "    for item in model.wv.most_similar('老師',topn=20):\n",
    "        print(item)\n",
    "except:\n",
    "    print(\"試試其他名詞,或是要丟額外data訓練\")\n",
    "    #print(padding.shape)"
   ]
  },
  {
   "cell_type": "code",
   "execution_count": null,
   "metadata": {},
   "outputs": [],
   "source": [
    "import numpy as np\n",
    "from gensim.models import word2vec\n",
    "\n",
    "\n",
    "# Load model\n",
    "print(\"loading...\")\n",
    "model = word2vec.Word2Vec.load(\"word2vec.model\")\n",
    "    \n",
    "# Zero padding\n",
    "padding = np.zeros((model.vector_size,), dtype=np.float32)\n",
    "\n",
    "\n",
    "# Error process\n",
    "try:\n",
    "    for item in model.wv.most_similar('老師',topn=20):\n",
    "        print(item)\n",
    "except:\n",
    "    print(\"試試其他名詞,或是要丟額外data訓練\")\n",
    "    #print(padding.shape)"
   ]
  },
  {
   "cell_type": "code",
   "execution_count": null,
   "metadata": {},
   "outputs": [],
   "source": [
    "12252"
   ]
  }
 ],
 "metadata": {
  "kernelspec": {
   "display_name": "Python 3",
   "language": "python",
   "name": "python3"
  },
  "language_info": {
   "codemirror_mode": {
    "name": "ipython",
    "version": 3
   },
   "file_extension": ".py",
   "mimetype": "text/x-python",
   "name": "python",
   "nbconvert_exporter": "python",
   "pygments_lexer": "ipython3",
   "version": "3.8.5"
  }
 },
 "nbformat": 4,
 "nbformat_minor": 4
}
